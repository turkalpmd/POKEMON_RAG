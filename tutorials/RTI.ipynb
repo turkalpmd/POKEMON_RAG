{
 "cells": [
  {
   "cell_type": "code",
   "execution_count": 1,
   "metadata": {},
   "outputs": [
    {
     "name": "stdout",
     "output_type": "stream",
     "text": [
      "Author: Izzet Turkalp Akbasli\n",
      "\n",
      "Python implementation: CPython\n",
      "Python version       : 3.9.19\n",
      "IPython version      : 8.12.0\n",
      "\n",
      "langchain: 0.2.5\n",
      "openai   : 1.34.0\n",
      "\n",
      "Compiler    : GCC 12.3.0\n",
      "OS          : Linux\n",
      "Release     : 6.5.0-35-generic\n",
      "Machine     : x86_64\n",
      "Processor   : x86_64\n",
      "CPU cores   : 24\n",
      "Architecture: 64bit\n",
      "\n"
     ]
    }
   ],
   "source": [
    "# Warning control\n",
    "import warnings\n",
    "warnings.filterwarnings('ignore')\n",
    "%reload_ext watermark\n",
    "%watermark -a \"Izzet Turkalp Akbasli\" -vmp langchain,openai"
   ]
  },
  {
   "cell_type": "code",
   "execution_count": 2,
   "metadata": {},
   "outputs": [
    {
     "name": "stdout",
     "output_type": "stream",
     "text": [
      "langchain    : 0.2.5\n",
      "unstructured : 0.14.6\n",
      "fastembed    : 0.3.1\n",
      "groq         : 0.9.0\n",
      "qdrant_client: 1.9.1\n",
      "\n"
     ]
    }
   ],
   "source": [
    "from unstructured.chunking.title import chunk_by_title\n",
    "from unstructured.partition.md import partition_md\n",
    "from unstructured.partition.pdf import partition_pdf\n",
    "from unstructured.staging.base import dict_to_elements\n",
    "import langchain, groq, fastembed, qdrant_client, unstructured\n",
    "import unstructured.partition\n",
    "%watermark --iversions"
   ]
  },
  {
   "cell_type": "code",
   "execution_count": 3,
   "metadata": {},
   "outputs": [
    {
     "name": "stderr",
     "output_type": "stream",
     "text": [
      "Some weights of the model checkpoint at microsoft/table-transformer-structure-recognition were not used when initializing TableTransformerForObjectDetection: ['model.backbone.conv_encoder.model.layer2.0.downsample.1.num_batches_tracked', 'model.backbone.conv_encoder.model.layer3.0.downsample.1.num_batches_tracked', 'model.backbone.conv_encoder.model.layer4.0.downsample.1.num_batches_tracked']\n",
      "- This IS expected if you are initializing TableTransformerForObjectDetection from the checkpoint of a model trained on another task or with another architecture (e.g. initializing a BertForSequenceClassification model from a BertForPreTraining model).\n",
      "- This IS NOT expected if you are initializing TableTransformerForObjectDetection from the checkpoint of a model that you expect to be exactly identical (initializing a BertForSequenceClassification model from a BertForSequenceClassification model).\n"
     ]
    }
   ],
   "source": [
    "from unstructured.partition.pdf import partition_pdf\n",
    "\n",
    "# Specify the path to your PDF file\n",
    "filename = \"/home/turkalp/Desktop/POKEMON_RAG/data/data_for_tutorials/RTI.pdf\"\n",
    "#path = \"images\"\n",
    "\n",
    "# Extract images, tables, and chunk text\n",
    "pdf_elements = partition_pdf(\n",
    "                                filename=filename,\n",
    "                                extract_images_in_pdf=False,\n",
    "                                strategy = \"hi_res\",\n",
    "                                hi_res_model_name=\"yolox\",\n",
    "                                infer_table_structure=True,\n",
    "                                chunking_strategy=\"by_title\",\n",
    "                                max_characters=3000,\n",
    "                                #new_after_n_chars=3800,\n",
    "                                combine_text_under_n_chars=200,\n",
    "                                #extract_image_block_output_dir=path,\n",
    ")"
   ]
  },
  {
   "cell_type": "code",
   "execution_count": 4,
   "metadata": {},
   "outputs": [
    {
     "data": {
      "text/plain": [
       "{\"<class 'unstructured.documents.elements.CompositeElement'>\": 14}"
      ]
     },
     "execution_count": 4,
     "metadata": {},
     "output_type": "execute_result"
    }
   ],
   "source": [
    "# Create a dictionary to store counts of each type\n",
    "category_counts = {}\n",
    "\n",
    "for element in pdf_elements:\n",
    "    category = str(type(element))\n",
    "    if category in category_counts:\n",
    "        category_counts[category] += 1\n",
    "    else:\n",
    "        category_counts[category] = 1\n",
    "\n",
    "# Unique_categories will have unique elements\n",
    "unique_categories = set(category_counts.keys())\n",
    "category_counts"
   ]
  },
  {
   "cell_type": "code",
   "execution_count": 5,
   "metadata": {},
   "outputs": [
    {
     "name": "stdout",
     "output_type": "stream",
     "text": [
      "{'CompositeElement'}\n"
     ]
    }
   ],
   "source": [
    "element_dict = [el.to_dict() for el in pdf_elements]\n",
    "\n",
    "unique_types = set()\n",
    "\n",
    "for item in element_dict:\n",
    "    unique_types.add(item['type'])\n",
    "\n",
    "print(unique_types)"
   ]
  },
  {
   "cell_type": "code",
   "execution_count": 6,
   "metadata": {},
   "outputs": [
    {
     "data": {
      "text/plain": [
       "{'type': 'CompositeElement',\n",
       " 'element_id': 'aea361db53cf2c1dd8671346a5159ce1',\n",
       " 'text': 'NCBI Bookshelf. A service of the National Library of Medicine, National Institutes of Health.\\n\\nStatPearls [Internet]. Treasure Island (FL): StatPearls Publishing; 2024 Jan-.\\n\\nPediatric Bronchiolitis\\n\\nAuthors\\n\\n3 Evelyn N. Erickson ; Rupal T. Bhakta ; Magda D. Mendez .',\n",
       " 'metadata': {'filetype': 'application/pdf',\n",
       "  'languages': ['eng'],\n",
       "  'last_modified': '2024-06-18T00:18:15',\n",
       "  'page_number': 1,\n",
       "  'orig_elements': 'eJy9lW9v0zAQxr+KlVcgzZb/xE6yvdpgiCE2Vazvqqly7EtjLXWqxB0UxHfHTjcxoEIwaXuX5/ycfHc/Xbz4lkEHa/Bh6Wx2jLKSS2aopFhIKXBOlcA1tTlWTBibzqA22RHK1hC01UHHnG+Z6fvBOq8DjJPu9K7fhmULbtWGGOFCVDHnPvzZ2dDGKFNSxOimdz6kvMWCUUmisZKkuDlCD5IxRfKki3hQ/qkne9TZuBsDrFMXM/cFuuuNNpB9jwcWApjger80nR7H5Wbo62ijRPKCphoa10HYbWDKnV1mU7F+tdWrqaNFBn6V3UzRMSzXvXWNg2lenPIcU4VZOaf0mJXHTKbsTcxc+u26hiF1mooI8CXNIrt6c3aBzvr+dmyhawg6RSMMd84A6hsUWkBXOpWqO/TR1YMedil+CdYZ5+Ho5+mFH4ML2zjzZHgPugstSXc/NHKlhyGa72Cebo4l/M5aWCZorQosFC9xXkqGa9CRNZXKShAMyuoZWfMJpihJuYe914oRMcEtKFEH9OR/Gu2iYmX5wrSvgw4z0EM3osWFDzB4CDcEzQfQ43YAdDHGqy169e7j62P0yDzb1p0bW+dXJyjdij5oj/8Pb6GhFhQazDlEvMCLuMpCYkErKvLGUiaa515lTukvu8xFvsedR67ygJ78T8NbipypF8Y7i3upw+AMOht6b1rXdy648TGnuQsdHOJjbBHbVyWuNOU4t0bikpsCN3VVGFNpw+vnXD9JYij+/x7Wb68rRuikS0HYAT35n8ZHsUpVL8zndBvafvg3HgAUqLAVLuIXzoWSWDcK4tPHTV5Xljc5PCOPPO2HiBj2877XQhKWtIrzlwf05H/ivlDK+AvzEOj8DrqdR1cEnce1uR17j07Qp+0mvmhzgs5afRt0jFzqldXoLYkvn7fwFf3t13fzA7LPlJc=',\n",
       "  'file_directory': '/home/turkalp/Desktop/POKEMON_RAG/data/data_for_tutorials',\n",
       "  'filename': 'RTI.pdf'}}"
      ]
     },
     "execution_count": 6,
     "metadata": {},
     "output_type": "execute_result"
    }
   ],
   "source": [
    "pdf_elements[0].to_dict()"
   ]
  },
  {
   "cell_type": "code",
   "execution_count": 8,
   "metadata": {},
   "outputs": [
    {
     "data": {
      "text/plain": [
       "5"
      ]
     },
     "execution_count": 8,
     "metadata": {},
     "output_type": "execute_result"
    }
   ],
   "source": [
    "chunk_elements = chunk_by_title((pdf_elements),combine_text_under_n_chars=20,max_characters=3000)\n",
    "len(chunk_elements)"
   ]
  },
  {
   "cell_type": "code",
   "execution_count": 10,
   "metadata": {},
   "outputs": [],
   "source": [
    "elements = chunk_by_title(pdf_elements) # you can play around with the chunk_by_title arguments\n"
   ]
  },
  {
   "cell_type": "code",
   "execution_count": 11,
   "metadata": {},
   "outputs": [],
   "source": [
    "import os\n",
    "from langchain_core.documents import Document\n",
    "from langchain_community.embeddings.fastembed import FastEmbedEmbeddings\n",
    "from langchain_community.vectorstores import Qdrant\n",
    "documents = []\n",
    "for element in elements:\n",
    "    metadata = element.metadata.to_dict()\n",
    "    del metadata[\"languages\"]\n",
    "    metadata[\"source\"] = metadata[\"filename\"]\n",
    "    documents.append(Document(page_content=element.text, metadata=metadata))"
   ]
  },
  {
   "cell_type": "code",
   "execution_count": 12,
   "metadata": {},
   "outputs": [
    {
     "data": {
      "text/plain": [
       "True"
      ]
     },
     "execution_count": 12,
     "metadata": {},
     "output_type": "execute_result"
    }
   ],
   "source": [
    "from dotenv import load_dotenv\n",
    "load_dotenv()"
   ]
  },
  {
   "cell_type": "code",
   "execution_count": 13,
   "metadata": {},
   "outputs": [],
   "source": [
    "qdrant_url = os.getenv(\"QDRANT_URL\")\n",
    "qdrant_api_key = os.getenv(\"QDRANT_API_KEY\")\n",
    "groq_api_key = os.getenv(\"GROQ_API_KEY\")"
   ]
  },
  {
   "cell_type": "code",
   "execution_count": 14,
   "metadata": {},
   "outputs": [
    {
     "data": {
      "application/vnd.jupyter.widget-view+json": {
       "model_id": "688d7f8d85fd403fbe9b6958fa0c03cf",
       "version_major": 2,
       "version_minor": 0
      },
      "text/plain": [
       "Fetching 5 files:   0%|          | 0/5 [00:00<?, ?it/s]"
      ]
     },
     "metadata": {},
     "output_type": "display_data"
    }
   ],
   "source": [
    "embeddings = FastEmbedEmbeddings()\n"
   ]
  },
  {
   "cell_type": "code",
   "execution_count": 15,
   "metadata": {},
   "outputs": [],
   "source": [
    "# this will take some time, patience is the key :)\n",
    "vectorstore = Qdrant.from_documents(documents=documents,\n",
    "                                    embedding = embeddings,\n",
    "                                    url = qdrant_url,\n",
    "                                    collection_name=\"rti\",\n",
    "                                    api_key=qdrant_api_key)"
   ]
  },
  {
   "cell_type": "code",
   "execution_count": 16,
   "metadata": {},
   "outputs": [],
   "source": [
    "retriever = vectorstore.as_retriever(\n",
    "    search_type=\"similarity\",\n",
    "    search_kwargs={\"k\": 3}\n",
    ")"
   ]
  },
  {
   "cell_type": "code",
   "execution_count": 42,
   "metadata": {},
   "outputs": [
    {
     "data": {
      "application/vnd.jupyter.widget-view+json": {
       "model_id": "688f722be50547c6b57c57aa2600170b",
       "version_major": 2,
       "version_minor": 0
      },
      "text/plain": [
       "Fetching 5 files:   0%|          | 0/5 [00:00<?, ?it/s]"
      ]
     },
     "metadata": {},
     "output_type": "display_data"
    },
    {
     "name": "stdout",
     "output_type": "stream",
     "text": [
      "{'input': 'What is the most common cause of bronchiolitis in children?', 'context': 'Bronchiolitis is inflammation of the bronchioles usually caused by an acute viral illness. It is the most common lower respiratory tract infection in children younger than 2 years of age.', 'chat_history': [], 'text': '**Respiratory Syncytial Virus (RSV) is the most common cause of bronchiolitis in children.**'}\n"
     ]
    }
   ],
   "source": [
    "from langchain.prompts import PromptTemplate\n",
    "from langchain_groq import ChatGroq\n",
    "from langchain_core.runnables import RunnableSequence\n",
    "from langchain.chains.history_aware_retriever import create_history_aware_retriever\n",
    "from langchain.chains.qa_with_sources import load_qa_with_sources_chain\n",
    "from langchain.vectorstores import Qdrant\n",
    "from langchain.embeddings import FastEmbedEmbeddings\n",
    "from langchain.chains import LLMChain\n",
    "\n",
    "# Define the prompt template\n",
    "template = \"\"\"You are a medical AI assistant specialized in answering questions about bronchiolitis in children.\n",
    "You will be provided with excerpts from a long document and a related question.\n",
    "Respond in a conversational manner.\n",
    "If you don't know the answer, simply say, \"Hmm, I'm not sure.\"\n",
    "Do not attempt to make up an answer.\n",
    "Question: {input}\n",
    "=========\n",
    "{context}\n",
    "=========\n",
    "Answer in Markdown:\"\"\"\n",
    "prompt = PromptTemplate(template=template, input_variables=[\"input\", \"context\"])\n",
    "\n",
    "# Initialize the language model\n",
    "llm = ChatGroq(temperature=0, model_name=\"llama3-8b-8192\")\n",
    "\n",
    "# Create the document chain\n",
    "doc_chain = load_qa_with_sources_chain(llm, chain_type=\"map_reduce\")\n",
    "\n",
    "# Create embeddings using FastEmbedEmbeddings\n",
    "embeddings = FastEmbedEmbeddings()\n",
    "\n",
    "# Set up the Qdrant retriever\n",
    "vectorstore = Qdrant.from_documents(documents=documents,\n",
    "                                    embedding=embeddings,\n",
    "                                    url=qdrant_url,\n",
    "                                    collection_name=\"rti\",\n",
    "                                    api_key=qdrant_api_key)\n",
    "\n",
    "retriever = vectorstore.as_retriever(\n",
    "    search_type=\"similarity\",\n",
    "    search_kwargs={\"k\": 3}\n",
    ")\n",
    "\n",
    "# Create the history-aware retriever\n",
    "history_aware_retriever = create_history_aware_retriever(\n",
    "    llm=RunnableSequence(prompt | llm),\n",
    "    retriever=retriever,\n",
    "    prompt=prompt\n",
    ")\n",
    "\n",
    "# Create the LLM chain for generating answers\n",
    "qa_chain = LLMChain(\n",
    "    llm=llm,\n",
    "    prompt=prompt\n",
    ")\n",
    "\n",
    "# Example question to test the chain\n",
    "question = \"What is the most common cause of bronchiolitis in children?\"\n",
    "context = \"Bronchiolitis is inflammation of the bronchioles usually caused by an acute viral illness. It is the most common lower respiratory tract infection in children younger than 2 years of age.\"\n",
    "result = qa_chain.invoke({\"input\": question, \"context\": context, \"chat_history\": []})\n",
    "print(result)\n"
   ]
  },
  {
   "cell_type": "code",
   "execution_count": 44,
   "metadata": {},
   "outputs": [
    {
     "name": "stdout",
     "output_type": "stream",
     "text": [
      "{'input': 'What are the most common symptoms of bronchiolitis in children?', 'context': 'Bronchiolitis is inflammation of the bronchioles usually caused by an acute viral illness. It is the most common lower respiratory tract infection in children younger than 2 years of age.', 'chat_history': [], 'text': '**The most common symptoms of bronchiolitis in children are:**\\n\\n* **Cough**: a persistent and often loud cough, which can be dry or produce mucus\\n* **Wheezing**: a high-pitched whistling sound when breathing out\\n* **Fast breathing rate**: rapid breathing, often accompanied by rapid heartbeat\\n* **Flaring**: outward movement of the ribs and the movement of the chest wall with each breath\\n* **Retraction**: the sucking in of the skin between the ribs with each breath\\n* **Fussiness**: irritability and restlessness due to discomfort and breathing difficulties\\n\\nThese symptoms can vary in severity and may worsen at night or with feeding.'}\n"
     ]
    }
   ],
   "source": [
    "question = \"What are the most common symptoms of bronchiolitis in children?\"\n",
    "context = \"Bronchiolitis is inflammation of the bronchioles usually caused by an acute viral illness. It is the most common lower respiratory tract infection in children younger than 2 years of age.\"\n",
    "result = qa_chain.invoke({\"input\": question, \"context\": context, \"chat_history\": []})\n",
    "print(result)"
   ]
  },
  {
   "cell_type": "code",
   "execution_count": 45,
   "metadata": {},
   "outputs": [
    {
     "name": "stdout",
     "output_type": "stream",
     "text": [
      "{'input': 'What are the recommended management and treatment strategies for children with bronchiolitis?', 'context': 'Bronchiolitis is inflammation of the bronchioles usually caused by an acute viral illness. It is the most common lower respiratory tract infection in children younger than 2 years of age.', 'chat_history': [], 'text': \"**Recommended Management and Treatment Strategies for Children with Bronchiolitis**\\n\\nAccording to the American Academy of Pediatrics (AAP) and the Centers for Disease Control and Prevention (CDC), the recommended management and treatment strategies for children with bronchiolitis are:\\n\\n* **Supportive care**: Provide plenty of fluids, such as breast milk or formula, to help keep the child hydrated. For older children, offer clear fluids like water or electrolyte-rich beverages.\\n* **Oxygen therapy**: Provide supplemental oxygen if the child's oxygen saturation levels are low (less than 92%).\\n* **Humidified air**: Use a cool-mist humidifier or a vaporizer to add moisture to the air, which can help relieve congestion and cough.\\n* **Antiviral medications**: There are no antiviral medications approved for the treatment of bronchiolitis. However, some studies suggest that ribavirin may be beneficial in severe cases.\\n* **Bronchodilators**: Inhaled bronchodilators, such as albuterol, may be used to help relieve wheezing and coughing.\\n* **Monitoring**: Closely monitor the child's vital signs, including oxygen saturation, heart rate, and respiratory rate.\\n* **Hospitalization**: Hospitalize children who are at high risk of complications, such as those with underlying medical conditions or those who are severely ill.\\n\\nIt's important to note that antibiotics are not effective in treating viral bronchiolitis, and their use can lead to antibiotic resistance.\"}\n"
     ]
    }
   ],
   "source": [
    "question = \"What are the recommended management and treatment strategies for children with bronchiolitis?\"\n",
    "context = \"Bronchiolitis is inflammation of the bronchioles usually caused by an acute viral illness. It is the most common lower respiratory tract infection in children younger than 2 years of age.\"\n",
    "result = qa_chain.invoke({\"input\": question, \"context\": context, \"chat_history\": []})\n",
    "print(result)"
   ]
  },
  {
   "cell_type": "code",
   "execution_count": 112,
   "metadata": {},
   "outputs": [],
   "source": [
    "# hybrid search in action\n",
    "filter_retriever = vectorstore.as_retriever(\n",
    "    search_type=\"similarity\",\n",
    "    search_kwargs={\"k\": 1, \"filter\": {\"source\": \"gpt4all.pdf\"}}\n",
    ")"
   ]
  },
  {
   "cell_type": "code",
   "execution_count": 113,
   "metadata": {},
   "outputs": [],
   "source": [
    "filter_chain = ConversationalRetrievalChain(\n",
    "    retriever=filter_retriever,\n",
    "    question_generator=question_generator_chain,\n",
    "    combine_docs_chain=doc_chain,\n",
    ")"
   ]
  },
  {
   "cell_type": "code",
   "execution_count": 115,
   "metadata": {},
   "outputs": [
    {
     "data": {
      "text/plain": [
       "\"I'm happy to help!\\n\\nFINAL ANSWER: The president did not mention Michael Jackson.\\n\\nSOURCES:\\n\\nFINAL ANSWER: This Agreement is governed by English law.\\n\\nSOURCES: 28-pl\\n\\nFINAL ANSWER: The president did not mention Michael Jackson.\\n\\nSOURCES:\\n\\nFINAL ANSWER: GPT4All-Snoozy was developed using roughly the same procedure as the previous GPT4All models, but with a few key modifications.\\n\\nSOURCES: gpt4all.pdf\""
      ]
     },
     "execution_count": 115,
     "metadata": {},
     "output_type": "execute_result"
    }
   ],
   "source": [
    "filter_chain.invoke({\n",
    "    \"question\": \"How was GPT4All-Snoozy developed ?\",\n",
    "    \"chat_history\": [],\n",
    "    \"filter\": filter,\n",
    "})[\"answer\"]"
   ]
  },
  {
   "cell_type": "code",
   "execution_count": null,
   "metadata": {},
   "outputs": [],
   "source": []
  }
 ],
 "metadata": {
  "kernelspec": {
   "display_name": "uitools",
   "language": "python",
   "name": "python3"
  },
  "language_info": {
   "codemirror_mode": {
    "name": "ipython",
    "version": 3
   },
   "file_extension": ".py",
   "mimetype": "text/x-python",
   "name": "python",
   "nbconvert_exporter": "python",
   "pygments_lexer": "ipython3",
   "version": "3.9.19"
  }
 },
 "nbformat": 4,
 "nbformat_minor": 2
}
