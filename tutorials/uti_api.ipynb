{
 "cells": [
  {
   "cell_type": "code",
   "execution_count": 6,
   "metadata": {},
   "outputs": [
    {
     "data": {
      "application/vnd.jupyter.widget-view+json": {
       "model_id": "2cf5c7536c2547cfa294961c37b852a0",
       "version_major": 2,
       "version_minor": 0
      },
      "text/plain": [
       "Fetching 5 files:   0%|          | 0/5 [00:00<?, ?it/s]"
      ]
     },
     "metadata": {},
     "output_type": "display_data"
    }
   ],
   "source": [
    "import os\n",
    "from langchain.prompts import PromptTemplate\n",
    "from langchain_groq import ChatGroq\n",
    "from langchain_core.runnables import RunnableSequence\n",
    "from langchain.chains.history_aware_retriever import create_history_aware_retriever\n",
    "from langchain.chains.qa_with_sources import load_qa_with_sources_chain\n",
    "from langchain.vectorstores import Qdrant\n",
    "from langchain.embeddings import FastEmbedEmbeddings\n",
    "from langchain.chains import LLMChain\n",
    "from dotenv import load_dotenv\n",
    "\n",
    "# Load environment variables from .env file\n",
    "load_dotenv()\n",
    "\n",
    "# Get API keys and URLs from environment variables\n",
    "qdrant_url = os.getenv(\"QDRANT_URL\")\n",
    "qdrant_api_key = os.getenv(\"QDRANT_API_KEY\")\n",
    "groq_api_key = os.getenv(\"GROQ_API_KEY\")\n",
    "\n",
    "# Define the prompt template with an additional instruction\n",
    "template = \"\"\"You are a medical AI assistant specialized in answering questions about urinary tract infection in children.\n",
    "You will be provided with excerpts from a long document and a related question.\n",
    "Respond in a conversational manner and in the same language as the question also you can translate to question language.\n",
    "If you don't know the answer, simply say, \"Hmm, I'm not sure.\"\n",
    "Do not attempt to make up an answer.\n",
    "Question: {input}\n",
    "=========\n",
    "{context}\n",
    "=========\n",
    "Answer in Markdown:\"\"\"\n",
    "\n",
    "# Create a PromptTemplate object with the defined template\n",
    "prompt = PromptTemplate(template=template, input_variables=[\"input\", \"context\"])\n",
    "\n",
    "# Initialize the language model with specific parameters\n",
    "llm = ChatGroq(temperature=0, model_name=\"llama3-8b-8192\")\n",
    "\n",
    "# Create the document chain using the language model and the map-reduce strategy\n",
    "doc_chain = load_qa_with_sources_chain(llm, chain_type=\"map_reduce\")\n",
    "\n",
    "# Create embeddings using FastEmbedEmbeddings\n",
    "embeddings = FastEmbedEmbeddings()\n",
    "\n",
    "# Set up the Qdrant vector store to connect to the existing collection\n",
    "vectorstore = Qdrant.from_existing_collection(\n",
    "    embedding=embeddings,         # Embedding model to use\n",
    "    url=qdrant_url,               # URL for the Qdrant instance\n",
    "    collection_name=\"uti\",        # Name of the existing Qdrant collection\n",
    "    api_key=qdrant_api_key,       # API key for authentication\n",
    "    path=None                     # Path to the existing collection, set to None if not needed\n",
    ")\n",
    "\n",
    "# Create a retriever object from the vector store for querying\n",
    "retriever = vectorstore.as_retriever(\n",
    "    search_type=\"similarity\",     # Type of search to perform, here it's similarity search\n",
    "    search_kwargs={\"k\": 3}        # Additional search parameters, 'k' specifies the number of top results to return\n",
    ")\n",
    "\n",
    "# Create the history-aware retriever for context-aware querying\n",
    "history_aware_retriever = create_history_aware_retriever(\n",
    "    llm=RunnableSequence(prompt | llm),  # Language model sequence combining prompt and LLM\n",
    "    retriever=retriever,                 # Retriever for fetching relevant documents\n",
    "    prompt=prompt                        # Prompt template for the retriever\n",
    ")\n",
    "\n",
    "# Create the LLM chain for generating answers\n",
    "qa_chain = LLMChain(\n",
    "    llm=llm,                # Language model to use for generating answers\n",
    "    prompt=prompt           # Prompt template to guide the answer generation\n",
    ")\n",
    "\n",
    "# Argument Explanations:\n",
    "# - template: The text template that defines how the AI should respond, with placeholders for input and context.\n",
    "# - input_variables: Variables that will be replaced in the template (e.g., \"input\" and \"context\").\n",
    "# - temperature: Parameter for the language model that controls the randomness of the output (0 means deterministic).\n",
    "# - model_name: Specifies the model version of the language model.\n",
    "# - embedding: The embedding model used to convert text into vector representations.\n",
    "# - url: The URL of the Qdrant instance where the documents are stored.\n",
    "# - collection_name: The name of the existing collection in Qdrant.\n",
    "# - api_key: The API key for authenticating with the Qdrant instance.\n",
    "# - search_type: The type of search to perform, in this case, a similarity search to find similar documents.\n",
    "# - search_kwargs: Additional keyword arguments for the search, 'k' specifies the number of similar results to return.\n",
    "# - llm: The language model used for generating responses and integrated into various chains.\n",
    "# - retriever: The component used to fetch relevant documents from the vector store based on the query.\n",
    "# - prompt: The prompt template guiding the AI on how to respond to questions.\n",
    "# - RunnableSequence: Combines the prompt and the language model to create a sequence for the history-aware retriever.\n"
   ]
  },
  {
   "cell_type": "code",
   "execution_count": 7,
   "metadata": {},
   "outputs": [
    {
     "name": "stdout",
     "output_type": "stream",
     "text": [
      "{'input': 'What imaging tests are recommended for babies younger than 6 months with atypical UTI?', 'context': 'The NICE guidelines for the diagnosis and management of urinary tract infections (UTIs) in children under 16 provide comprehensive recommendations. The guidelines cover various aspects such as symptoms and signs, diagnostic procedures, acute management, prevention of recurrence, and follow-up care. They emphasize the importance of accurate diagnosis to avoid unnecessary treatments and to manage UTIs effectively. The guidelines also include specific recommendations for urine testing, imaging tests, and the use of antibiotics. Imaging tests, in particular, are recommended based on the age of the child, the type of UTI (acute upper or lower), and the response to initial treatment. For instance, certain imaging tests are suggested for babies under 6 months with atypical UTI to identify structural abnormalities and ensure prompt and appropriate management.', 'chat_history': [], 'text': '**According to the NICE guidelines, for babies younger than 6 months with atypical UTI, imaging tests are recommended to identify structural abnormalities and ensure prompt and appropriate management.**'}\n"
     ]
    }
   ],
   "source": [
    "question = \"What imaging tests are recommended for babies younger than 6 months with atypical UTI?\"\n",
    "context = \"The NICE guidelines for the diagnosis and management of urinary tract infections (UTIs) in children under 16 provide comprehensive recommendations. The guidelines cover various aspects such as symptoms and signs, diagnostic procedures, acute management, prevention of recurrence, and follow-up care. They emphasize the importance of accurate diagnosis to avoid unnecessary treatments and to manage UTIs effectively. The guidelines also include specific recommendations for urine testing, imaging tests, and the use of antibiotics. Imaging tests, in particular, are recommended based on the age of the child, the type of UTI (acute upper or lower), and the response to initial treatment. For instance, certain imaging tests are suggested for babies under 6 months with atypical UTI to identify structural abnormalities and ensure prompt and appropriate management.\"\n",
    "result = qa_chain.invoke({\"input\": question, \"context\": context, \"chat_history\": []})\n",
    "print(result)"
   ]
  },
  {
   "cell_type": "code",
   "execution_count": 9,
   "metadata": {},
   "outputs": [
    {
     "name": "stdout",
     "output_type": "stream",
     "text": [
      "{'input': 'What is the recommended management for babies and children over 3 months with an acute upper UTI?', 'context': 'The NICE guidelines for the diagnosis and management of urinary tract infections (UTIs) in children under 16 provide comprehensive recommendations. The guidelines cover various aspects such as symptoms and signs, diagnostic procedures, acute management, prevention of recurrence, and follow-up care. They emphasize the importance of accurate diagnosis to avoid unnecessary treatments and to manage UTIs effectively. The guidelines also include specific recommendations for urine testing, imaging tests, and the use of antibiotics. Imaging tests, in particular, are recommended based on the age of the child, the type of UTI (acute upper or lower), and the response to initial treatment. For instance, certain imaging tests are suggested for babies under 6 months with atypical UTI to identify structural abnormalities and ensure prompt and appropriate management.', 'chat_history': [], 'text': \"**According to the NICE guidelines, for babies and children over 3 months with an acute upper UTI, the recommended management is...**\\n\\n* **Antibiotic treatment**: The guidelines recommend treating acute upper UTI with antibiotics, with a duration of treatment ranging from 7 to 14 days, depending on the severity of the infection and the child's response to treatment.\\n* **Imaging tests**: Imaging tests, such as ultrasound or MRI, may be recommended to rule out any underlying structural abnormalities, especially in children with atypical symptoms or those who do not respond to initial treatment.\\n\\nPlease note that these recommendations are based on the NICE guidelines and may vary depending on individual circumstances. It's always best to consult with a healthcare professional for personalized advice.\"}\n"
     ]
    }
   ],
   "source": [
    "question = \"What is the recommended management for babies and children over 3 months with an acute upper UTI?\"\n",
    "context = \"The NICE guidelines for the diagnosis and management of urinary tract infections (UTIs) in children under 16 provide comprehensive recommendations. The guidelines cover various aspects such as symptoms and signs, diagnostic procedures, acute management, prevention of recurrence, and follow-up care. They emphasize the importance of accurate diagnosis to avoid unnecessary treatments and to manage UTIs effectively. The guidelines also include specific recommendations for urine testing, imaging tests, and the use of antibiotics. Imaging tests, in particular, are recommended based on the age of the child, the type of UTI (acute upper or lower), and the response to initial treatment. For instance, certain imaging tests are suggested for babies under 6 months with atypical UTI to identify structural abnormalities and ensure prompt and appropriate management.\"\n",
    "result = qa_chain.invoke({\"input\": question, \"context\": context, \"chat_history\": []})\n",
    "print(result)"
   ]
  },
  {
   "cell_type": "markdown",
   "metadata": {},
   "source": [
    "{'input': 'What is the recommended management for babies and children over 3 months with an acute upper UTI?', 'context': 'The NICE guidelines for the diagnosis and management of urinary tract infections (UTIs) in children under 16 provide comprehensive recommendations. The guidelines cover various aspects such as symptoms and signs, diagnostic procedures, acute management, prevention of recurrence, and follow-up care. They emphasize the importance of accurate diagnosis to avoid unnecessary treatments and to manage UTIs effectively. The guidelines also include specific recommendations for urine testing, imaging tests, and the use of antibiotics. Imaging tests, in particular, are recommended based on the age of the child, the type of UTI (acute upper or lower), and the response to initial treatment. For instance, certain imaging tests are suggested for babies under 6 months with atypical UTI to identify structural abnormalities and ensure prompt and appropriate management.', 'chat_history': [], 'text': \"**According to the NICE guidelines, for babies and children over 3 months with an acute upper UTI, the recommended management is...**\\n\\n* **Antibiotic treatment**: The guidelines recommend treating acute upper UTI with antibiotics, with a duration of treatment ranging from 7 to 14 days, depending on the severity of the infection and the child's response to treatment.\\n* **Imaging tests**: Imaging tests, such as ultrasound or MRI, may be recommended to rule out any underlying structural abnormalities, especially in children with atypical symptoms or those who do not respond to initial treatment.\\n\\nPlease note that these recommendations are based on the NICE guidelines and may vary depending on individual circumstances. It's always best to consult with a healthcare professional for personalized advice.\"}"
   ]
  },
  {
   "cell_type": "code",
   "execution_count": null,
   "metadata": {},
   "outputs": [],
   "source": []
  },
  {
   "cell_type": "code",
   "execution_count": null,
   "metadata": {},
   "outputs": [],
   "source": []
  }
 ],
 "metadata": {
  "kernelspec": {
   "display_name": "uitools",
   "language": "python",
   "name": "python3"
  },
  "language_info": {
   "codemirror_mode": {
    "name": "ipython",
    "version": 3
   },
   "file_extension": ".py",
   "mimetype": "text/x-python",
   "name": "python",
   "nbconvert_exporter": "python",
   "pygments_lexer": "ipython3",
   "version": "3.9.19"
  }
 },
 "nbformat": 4,
 "nbformat_minor": 2
}
